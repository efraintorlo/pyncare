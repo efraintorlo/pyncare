{
 "cells": [
  {
   "cell_type": "markdown",
   "metadata": {},
   "source": [
    "---\n",
    "\n",
    "# Compactified  $\\phi^2$  Inflation\n",
    "\n",
    "## (PRO-VERSION)\n",
    "---\n",
    "\n",
    "---\n",
    "**Author**:      Efrain Torres-Lomas \n",
    "\n",
    "**Email**:       ``efrain@fisica.ugto.mx``\n",
    "\n",
    "**Github**:      https://github.com/elchinot7\n",
    "\n",
    "**Bitbucket**:   https://bitbucket.org/elchinot7/pyncare\n",
    "\n",
    "**Date**:        September 2016\n",
    "\n",
    "---"
   ]
  },
  {
   "cell_type": "code",
   "execution_count": null,
   "metadata": {
    "collapsed": false
   },
   "outputs": [],
   "source": [
    "import matplotlib.pyplot as plt\n",
    "from mpl_toolkits.mplot3d import Axes3D\n",
    "from collections import OrderedDict\n",
    "from pyncare.models import compact_dyn_sys_phi2\n",
    "from pyncare.utils import plot_latitude\n",
    "from pyncare import PoincareCompact\n",
    "import numpy as np\n",
    "#%matplotlib inline\n",
    "%matplotlib notebook\n",
    "import seaborn as sns\n",
    "sns.set()\n",
    "sns.set_context(\"talk\") # paper, notebook, talk, and poster"
   ]
  },
  {
   "cell_type": "code",
   "execution_count": null,
   "metadata": {
    "collapsed": false
   },
   "outputs": [],
   "source": [
    "t = np.linspace(0.0, 30.0, 1000)\n",
    "\n",
    "var_names = {'x': r'$X$', 'y': r'$Y$', 'z': r'$Z$'}\n",
    "\n",
    "y0 = 0.5\n",
    "orbits = [{'vars': OrderedDict([('x', -0.8), ('y', y0)]), 't': t, 'arrow_pos': [2, 50, 100, 150, 200], 'label': 'label0'},\n",
    "          {'vars': OrderedDict([('x', -0.6), ('y', y0)]), 't': t, 'arrow_pos': [5, 10, -10], 'label': 'label1'},\n",
    "          {'vars': OrderedDict([('x', -0.4), ('y', y0)]), 't': t, 'arrow_pos': [5, 10, -10], 'label': 'label2'},\n",
    "          {'vars': OrderedDict([('x', -0.2), ('y', y0)]), 't': t, 'arrow_pos': [5, 10, -10], 'label': 'label3'},\n",
    "          {'vars': OrderedDict([('x', 0.0), ('y', y0)]), 't': t, 'arrow_pos': [5, 10, -10], 'label': 'label4'},\n",
    "          ]\n",
    "orbits += [{'vars': OrderedDict([('x', -0.8), ('y', y0)]), 't': -t, 'arrow_pos': [1], 'label': 'label0'},\n",
    "           {'vars': OrderedDict([('x', -0.6), ('y', y0)]), 't': -t, 'arrow_pos': [5, 10, -10], 'label': 'label1'},\n",
    "           {'vars': OrderedDict([('x', -0.4), ('y', y0)]), 't': -t, 'arrow_pos': [5, 10, -10], 'label': 'label2'},\n",
    "           {'vars': OrderedDict([('x', -0.2), ('y', y0)]), 't': -t, 'arrow_pos': [5, 10, -10], 'label': 'label3'},\n",
    "           {'vars': OrderedDict([('x', 0.0), ('y', y0)]), 't': -t, 'arrow_pos': [5, 10, -10], 'label': 'label4'},\n",
    "           ]\n",
    "\n",
    "y0 = -0.5\n",
    "\n",
    "orbits += [{'vars': OrderedDict([('x', -0.8), ('y', y0)]), 't': t, 'arrow_pos': [2, 50, 100, 150, 200], 'label': 'label0'},\n",
    "          {'vars': OrderedDict([('x', -0.6), ('y', y0)]), 't': t, 'arrow_pos': [5, 10, -10], 'label': 'label1'},\n",
    "          {'vars': OrderedDict([('x', -0.4), ('y', y0)]), 't': t, 'arrow_pos': [5, 10, -10], 'label': 'label2'},\n",
    "          {'vars': OrderedDict([('x', -0.2), ('y', y0)]), 't': t, 'arrow_pos': [5, 10, -10], 'label': 'label3'},\n",
    "          {'vars': OrderedDict([('x', 0.0), ('y', y0)]), 't': t, 'arrow_pos': [5, 10, -10], 'label': 'label4'},\n",
    "          ]\n",
    "orbits += [{'vars': OrderedDict([('x', -0.8), ('y', y0)]), 't': -t, 'arrow_pos': [1], 'label': 'label0'},\n",
    "           {'vars': OrderedDict([('x', -0.6), ('y', y0)]), 't': -t, 'arrow_pos': [5, 10, -10], 'label': 'label1'},\n",
    "           {'vars': OrderedDict([('x', -0.4), ('y', y0)]), 't': -t, 'arrow_pos': [5, 10, -10], 'label': 'label2'},\n",
    "           {'vars': OrderedDict([('x', -0.2), ('y', y0)]), 't': -t, 'arrow_pos': [5, 10, -10], 'label': 'label3'},\n",
    "           {'vars': OrderedDict([('x', 0.0), ('y', y0)]), 't': -t, 'arrow_pos': [5, 10, -10], 'label': 'label4'},\n",
    "           ]\n"
   ]
  },
  {
   "cell_type": "code",
   "execution_count": null,
   "metadata": {
    "collapsed": true
   },
   "outputs": [],
   "source": [
    "dynsys = PoincareCompact(model=compact_dyn_sys_phi2,\n",
    "                         model_pars=[],\n",
    "                         var_names=var_names,\n",
    "                         Ndim=2,\n",
    "                         orbits=orbits,\n",
    "                         lines=None,\n",
    "                         #colors='bright',\n",
    "                         colors='black',\n",
    "                         )"
   ]
  },
  {
   "cell_type": "code",
   "execution_count": null,
   "metadata": {
    "collapsed": false
   },
   "outputs": [],
   "source": [
    "#print dynsys"
   ]
  },
  {
   "cell_type": "code",
   "execution_count": null,
   "metadata": {
    "collapsed": false
   },
   "outputs": [],
   "source": [
    "#print dynsys._orbits"
   ]
  },
  {
   "cell_type": "code",
   "execution_count": null,
   "metadata": {
    "collapsed": false
   },
   "outputs": [],
   "source": [
    "fig = plt.figure()\n",
    "# ax = fig.add_subplot(111)\n",
    "ax = Axes3D(fig)\n",
    "\n",
    "\n",
    "dynsys.plot_poincare_surface(ax, phi_i=0, phi_f=2*np.pi, theta_i=0, theta_f=np.pi/4,\n",
    "                             res=10, color='0.9', alpha=0.3)\n",
    "\n",
    "dynsys.plot_poincare_surface(ax, phi_i=0, phi_f=2*np.pi, theta_i=np.pi/4,\n",
    "                             theta_f=np.pi/2, res=10, color='0.9', alpha=0.3)\n",
    "\n",
    "dynsys.plot_orbits(ax=ax, vars_to_plot=['x', 'y'])\n",
    "\n",
    "dynsys.plot_equator(ax, res=50, ls='-', lw=2, is_projection=False)\n",
    "plot_latitude(ax, theta_0=np.pi/4, res=50, ls='--', lw=2, color='r')\n",
    "#plt.show()"
   ]
  },
  {
   "cell_type": "code",
   "execution_count": null,
   "metadata": {
    "collapsed": true
   },
   "outputs": [],
   "source": []
  }
 ],
 "metadata": {
  "kernelspec": {
   "display_name": "Python 2",
   "language": "python",
   "name": "python2"
  },
  "language_info": {
   "codemirror_mode": {
    "name": "ipython",
    "version": 2
   },
   "file_extension": ".py",
   "mimetype": "text/x-python",
   "name": "python",
   "nbconvert_exporter": "python",
   "pygments_lexer": "ipython2",
   "version": "2.7.9"
  }
 },
 "nbformat": 4,
 "nbformat_minor": 0
}
