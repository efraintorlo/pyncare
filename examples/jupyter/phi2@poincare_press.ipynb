{
 "cells": [
  {
   "cell_type": "markdown",
   "metadata": {},
   "source": [
    "---\n",
    "\n",
    "# Compactified  $\\phi^2$  Inflation\n",
    "\n",
    "### (This is the Press-Version)\n",
    "---\n",
    "\n",
    "---\n",
    "**Author**:      Efrain Torres-Lomas \n",
    "\n",
    "**Email**:       ``efrain@fisica.ugto.mx``\n",
    "\n",
    "**Github**:      https://github.com/elchinot7\n",
    "\n",
    "**Bitbucket**:   https://bitbucket.org/elchinot7/pyncare\n",
    "\n",
    "**Date**:        September 2016\n",
    "\n",
    "---"
   ]
  },
  {
   "cell_type": "markdown",
   "metadata": {},
   "source": [
    "## Note:\n",
    "#### Here I will use the ``pyncare`` Python package.\n",
    "\n",
    "You can get it by doing:\n",
    "\n",
    "    git clone https://elchinot7@bitbucket.org/elchinot7/pyncare.git\n",
    "\n",
    "To install:\n",
    "\n",
    "    python setup.py install\n",
    "    "
   ]
  },
  {
   "cell_type": "markdown",
   "metadata": {},
   "source": [
    "## Importing ``pyncare`` and other packages "
   ]
  },
  {
   "cell_type": "code",
   "execution_count": null,
   "metadata": {
    "collapsed": false
   },
   "outputs": [],
   "source": [
    "import numpy as np\n",
    "import matplotlib.pyplot as plt\n",
    "\n",
    "from mpl_toolkits.mplot3d import Axes3D\n",
    "from collections import OrderedDict\n",
    "\n",
    "#from pyncare.models import compact_dyn_sys_phi2\n",
    "from pyncare.utils import plot_latitude\n",
    "from pyncare import PoincareCompact\n",
    "\n",
    "%matplotlib notebook\n",
    "\n",
    "import seaborn as sns\n",
    "sns.set()\n",
    "sns.set_context(\"talk\") # paper, notebook, talk, and poster\n"
   ]
  },
  {
   "cell_type": "markdown",
   "metadata": {},
   "source": [
    "# The Model:\n",
    "\n",
    "$$V=\\frac{1}{2}m^2\\phi^2$$\n",
    "\n",
    "## Compactified over the Poincaré Sphere:"
   ]
  },
  {
   "cell_type": "code",
   "execution_count": null,
   "metadata": {
    "collapsed": true
   },
   "outputs": [],
   "source": [
    "def compact_dyn_sys_phi2(init, t=None, modelpars=[]):\n",
    "        if t is None:\n",
    "            t = 1.0  # This is used to allows a call from \"plot_vector_flow()\"\n",
    "        X = init[0]\n",
    "        Y = init[1]\n",
    "        # the model equations\n",
    "        Z = np.sqrt(1.0 - X**2.0 - Y**2.0)\n",
    "        A = 3.0 * Y * np.sqrt(X**2.0 + Y**2.0) / Z\n",
    "        X_dot = Y + X * Y * A\n",
    "        Y_dot = -X + (Y**2.0 - 1.0) * A\n",
    "        return [X_dot, Y_dot]"
   ]
  },
  {
   "cell_type": "markdown",
   "metadata": {},
   "source": [
    "# Numerical Solution:\n",
    "\n",
    "- Define the Dynamical System Object\n",
    "- Solve & Plot the orbits\n",
    "- Add the constraints plots\n",
    "\n",
    "**New!** Now is ease to use different predefined color schemes!\n",
    "\n",
    "Just set\n",
    "\n",
    "    colors='colorscheme'\n",
    "\n",
    "where 'colorscheme' is one of \n",
    "\n",
    "    [None, 'deep', 'muted', 'pastel', 'bright', 'dark', 'colorblind']\n"
   ]
  },
  {
   "cell_type": "code",
   "execution_count": null,
   "metadata": {
    "collapsed": false
   },
   "outputs": [],
   "source": [
    "t = np.linspace(0.0, 30.0, 1000)\n",
    "\n",
    "var_names = {'x': r'$X$', 'y': r'$Y$'}\n",
    "\n",
    "arrow_pos = [2, 5, 10, 50, 100, 150, 200]\n",
    "\n",
    "orbits = [{'vars': OrderedDict([('x', 0.0005), ('y', -0.999)]), 't': t, 'arrow_pos': arrow_pos, 'label': 'label0'},\n",
    "          {'vars': OrderedDict([('x', 0.0005), ('y', 0.999)]), 't': t, 'arrow_pos': arrow_pos, 'label': 'label1'},\n",
    "         ]"
   ]
  },
  {
   "cell_type": "code",
   "execution_count": null,
   "metadata": {
    "collapsed": true
   },
   "outputs": [],
   "source": [
    "dynsys = PoincareCompact(model=compact_dyn_sys_phi2,\n",
    "                         model_pars=[],\n",
    "                         var_names=var_names,\n",
    "                         Ndim=2,\n",
    "                         orbits=orbits,\n",
    "                         lines=None,\n",
    "                         colors='black',\n",
    "                         #colors='dark'\n",
    "                         #colors='bright'\n",
    "                         )"
   ]
  },
  {
   "cell_type": "code",
   "execution_count": null,
   "metadata": {
    "collapsed": false
   },
   "outputs": [],
   "source": [
    "#print dynsys"
   ]
  },
  {
   "cell_type": "code",
   "execution_count": null,
   "metadata": {
    "collapsed": false
   },
   "outputs": [],
   "source": [
    "#print dynsys._orbits"
   ]
  },
  {
   "cell_type": "code",
   "execution_count": null,
   "metadata": {
    "collapsed": false
   },
   "outputs": [],
   "source": [
    "fig = plt.figure()\n",
    "ax = Axes3D(fig)\n",
    "\n",
    "dynsys.plot_orbits(ax=ax, vars_to_plot=['x', 'y'], lw=1)\n",
    "\n",
    "dynsys.plot_poincare_surface(ax, phi_i=0, phi_f=2*np.pi, theta_i=0, theta_f=np.pi/4, res=10, color='0.7', alpha=0.3)\n",
    "\n",
    "dynsys.plot_poincare_surface(ax, phi_i=0, phi_f=2*np.pi, theta_i=np.pi/4, theta_f=np.pi/2, res=10, color='0.9', alpha=0.3)\n",
    "\n",
    "dynsys.plot_equator(ax, res=50, ls='-', lw=2, color='b', is_projection=False)\n",
    "\n",
    "plot_latitude(ax, theta_0=np.pi/4, res=50, ls='--', lw=2, color='r')"
   ]
  },
  {
   "cell_type": "code",
   "execution_count": null,
   "metadata": {
    "collapsed": true
   },
   "outputs": [],
   "source": []
  }
 ],
 "metadata": {
  "kernelspec": {
   "display_name": "Python 2",
   "language": "python",
   "name": "python2"
  },
  "language_info": {
   "codemirror_mode": {
    "name": "ipython",
    "version": 2
   },
   "file_extension": ".py",
   "mimetype": "text/x-python",
   "name": "python",
   "nbconvert_exporter": "python",
   "pygments_lexer": "ipython2",
   "version": "2.7.9"
  }
 },
 "nbformat": 4,
 "nbformat_minor": 0
}
